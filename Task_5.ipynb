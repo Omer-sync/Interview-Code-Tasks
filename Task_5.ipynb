{
 "cells": [
  {
   "cell_type": "markdown",
   "metadata": {},
   "source": [
    "## Import Libraries"
   ]
  },
  {
   "cell_type": "code",
   "execution_count": 1,
   "metadata": {},
   "outputs": [],
   "source": [
    "import pandas as pd \n",
    "import numpy as np\n",
    "from bs4 import BeautifulSoup\n"
   ]
  },
  {
   "cell_type": "markdown",
   "metadata": {},
   "source": [
    "## Read the Data from the file"
   ]
  },
  {
   "cell_type": "code",
   "execution_count": 2,
   "metadata": {},
   "outputs": [],
   "source": [
    "data = {\"Device_Type\":       [\"AXO145\",\"TRU151\",\"ZOD231\",\"YRT326\",\"LWR245\"],\n",
    "        \"Stats_Access_Link\" :[\"<url>https://xcd32112.smart_meter.com</url>\",\"<url>http://txh67.dia_meter.com</url>\",\n",
    "                                \"<url>http://yT5495.smart_meter.com/url>\",\"<url>https://ret323_TRu.crown.com</url>\",\n",
    "                                \"<url>https://luwr3243.celcius.com</url>\"]}\n",
    "df = pd.DataFrame(data)\n",
    "df_copy = df.copy()\n"
   ]
  },
  {
   "cell_type": "code",
   "execution_count": 3,
   "metadata": {},
   "outputs": [
    {
     "data": {
      "text/html": [
       "<div>\n",
       "<style scoped>\n",
       "    .dataframe tbody tr th:only-of-type {\n",
       "        vertical-align: middle;\n",
       "    }\n",
       "\n",
       "    .dataframe tbody tr th {\n",
       "        vertical-align: top;\n",
       "    }\n",
       "\n",
       "    .dataframe thead th {\n",
       "        text-align: right;\n",
       "    }\n",
       "</style>\n",
       "<table border=\"1\" class=\"dataframe\">\n",
       "  <thead>\n",
       "    <tr style=\"text-align: right;\">\n",
       "      <th></th>\n",
       "      <th>Device_Type</th>\n",
       "      <th>Stats_Access_Link</th>\n",
       "    </tr>\n",
       "  </thead>\n",
       "  <tbody>\n",
       "    <tr>\n",
       "      <th>0</th>\n",
       "      <td>AXO145</td>\n",
       "      <td>&lt;url&gt;https://xcd32112.smart_meter.com&lt;/url&gt;</td>\n",
       "    </tr>\n",
       "    <tr>\n",
       "      <th>1</th>\n",
       "      <td>TRU151</td>\n",
       "      <td>&lt;url&gt;http://txh67.dia_meter.com&lt;/url&gt;</td>\n",
       "    </tr>\n",
       "    <tr>\n",
       "      <th>2</th>\n",
       "      <td>ZOD231</td>\n",
       "      <td>&lt;url&gt;http://yT5495.smart_meter.com/url&gt;</td>\n",
       "    </tr>\n",
       "    <tr>\n",
       "      <th>3</th>\n",
       "      <td>YRT326</td>\n",
       "      <td>&lt;url&gt;https://ret323_TRu.crown.com&lt;/url&gt;</td>\n",
       "    </tr>\n",
       "    <tr>\n",
       "      <th>4</th>\n",
       "      <td>LWR245</td>\n",
       "      <td>&lt;url&gt;https://luwr3243.celcius.com&lt;/url&gt;</td>\n",
       "    </tr>\n",
       "  </tbody>\n",
       "</table>\n",
       "</div>"
      ],
      "text/plain": [
       "  Device_Type                            Stats_Access_Link\n",
       "0      AXO145  <url>https://xcd32112.smart_meter.com</url>\n",
       "1      TRU151        <url>http://txh67.dia_meter.com</url>\n",
       "2      ZOD231      <url>http://yT5495.smart_meter.com/url>\n",
       "3      YRT326      <url>https://ret323_TRu.crown.com</url>\n",
       "4      LWR245      <url>https://luwr3243.celcius.com</url>"
      ]
     },
     "execution_count": 3,
     "metadata": {},
     "output_type": "execute_result"
    }
   ],
   "source": [
    "df.head(5)"
   ]
  },
  {
   "cell_type": "markdown",
   "metadata": {},
   "source": [
    "## Parsing The DataFrame Column with Bs4 Library"
   ]
  },
  {
   "cell_type": "code",
   "execution_count": 4,
   "metadata": {},
   "outputs": [],
   "source": [
    "def parser(data_frame):\n",
    "    for url in df.Stats_Access_Link:\n",
    "        tag = BeautifulSoup(url,'xml')\n",
    "        print(tag.text)"
   ]
  },
  {
   "cell_type": "code",
   "execution_count": 5,
   "metadata": {},
   "outputs": [
    {
     "name": "stdout",
     "output_type": "stream",
     "text": [
      "https://xcd32112.smart_meter.com\n",
      "http://txh67.dia_meter.com\n",
      "http://yT5495.smart_meter.com/url>\n",
      "https://ret323_TRu.crown.com\n",
      "https://luwr3243.celcius.com\n"
     ]
    }
   ],
   "source": [
    "parser(df)"
   ]
  },
  {
   "cell_type": "code",
   "execution_count": null,
   "metadata": {},
   "outputs": [],
   "source": []
  }
 ],
 "metadata": {
  "interpreter": {
   "hash": "97ae724bfa85b9b34df7982b8bb8c7216f435b92902d749e4263f71162bea840"
  },
  "kernelspec": {
   "display_name": "Python 3",
   "language": "python",
   "name": "python3"
  },
  "language_info": {
   "codemirror_mode": {
    "name": "ipython",
    "version": 3
   },
   "file_extension": ".py",
   "mimetype": "text/x-python",
   "name": "python",
   "nbconvert_exporter": "python",
   "pygments_lexer": "ipython3",
   "version": "3.8.5"
  }
 },
 "nbformat": 4,
 "nbformat_minor": 2
}
